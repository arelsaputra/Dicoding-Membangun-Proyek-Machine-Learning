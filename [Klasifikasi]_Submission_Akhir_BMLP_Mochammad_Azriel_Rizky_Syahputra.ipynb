{
  "nbformat": 4,
  "nbformat_minor": 0,
  "metadata": {
    "colab": {
      "provenance": []
    },
    "kernelspec": {
      "name": "python3",
      "display_name": "Python 3"
    },
    "language_info": {
      "name": "python"
    }
  },
  "cells": [
    {
      "cell_type": "markdown",
      "source": [
        "# **1. Import Library**"
      ],
      "metadata": {
        "id": "fKADPWcFKlj3"
      }
    },
    {
      "cell_type": "markdown",
      "source": [
        "Pada tahap ini, Anda perlu mengimpor beberapa pustaka (library) Python yang dibutuhkan untuk analisis data dan pembangunan model machine learning."
      ],
      "metadata": {
        "id": "LgA3ERnVn84N"
      }
    },
    {
      "cell_type": "code",
      "source": [
        "import pandas as pd\n",
        "import numpy as np\n",
        "import matplotlib.pyplot as plt\n",
        "import seaborn as sns\n",
        "from sklearn.model_selection import train_test_split\n",
        "from sklearn.ensemble import RandomForestClassifier\n",
        "from sklearn.preprocessing import StandardScaler\n",
        "from sklearn.metrics import accuracy_score, f1_score, classification_report, confusion_matrix\n",
        "from sklearn.model_selection import GridSearchCV"
      ],
      "metadata": {
        "id": "BlmvjLY9M4Yj"
      },
      "execution_count": null,
      "outputs": []
    },
    {
      "cell_type": "markdown",
      "source": [
        "# **2. Memuat Dataset dari Hasil Clustering**"
      ],
      "metadata": {
        "id": "f3YIEnAFKrKL"
      }
    },
    {
      "cell_type": "markdown",
      "source": [
        "Memuat dataset hasil clustering dari file CSV ke dalam variabel DataFrame."
      ],
      "metadata": {
        "id": "Ey3ItwTen_7E"
      }
    },
    {
      "cell_type": "code",
      "source": [
        "df = pd.read_csv('/content/Dataset_clustering.csv')\n",
        "print(df.head())"
      ],
      "metadata": {
        "id": "GHCGNTyrM5fS",
        "colab": {
          "base_uri": "https://localhost:8080/"
        },
        "outputId": "c590dbac-520e-44ad-c369-0707d3a51f3d"
      },
      "execution_count": null,
      "outputs": [
        {
          "output_type": "stream",
          "name": "stdout",
          "text": [
            "   age        job  marital    education  default housing loan    contact  \\\n",
            "0   56  housemaid  married     basic.4y       no      no   no  telephone   \n",
            "1   57   services  married  high.school  unknown      no   no  telephone   \n",
            "2   37   services  married  high.school       no     yes   no  telephone   \n",
            "3   40     admin.  married     basic.6y       no      no   no  telephone   \n",
            "4   56   services  married  high.school       no      no  yes  telephone   \n",
            "\n",
            "  month day_of_week  ...  pdays  previous     poutcome  emp.var.rate  \\\n",
            "0   may         mon  ...  999.0       0.0  nonexistent           1.1   \n",
            "1   may         mon  ...  999.0       0.0  nonexistent           1.1   \n",
            "2   may         mon  ...  999.0       0.0  nonexistent           1.1   \n",
            "3   may         mon  ...  999.0       0.0  nonexistent           1.1   \n",
            "4   may         mon  ...  999.0       0.0  nonexistent           1.1   \n",
            "\n",
            "  cons.price.idx  cons.conf.idx  euribor3m  nr.employed   y  Cluster  \n",
            "0         93.994          -36.4      4.857       5191.0  no        4  \n",
            "1         93.994          -36.4      4.857       5191.0  no        4  \n",
            "2         93.994          -36.4      4.857       5191.0  no        4  \n",
            "3         93.994          -36.4      4.857       5191.0  no        4  \n",
            "4         93.994          -36.4      4.857       5191.0  no        4  \n",
            "\n",
            "[5 rows x 22 columns]\n"
          ]
        }
      ]
    },
    {
      "cell_type": "markdown",
      "source": [
        "# **3. Data Splitting**"
      ],
      "metadata": {
        "id": "KkPem5eWL2UP"
      }
    },
    {
      "cell_type": "markdown",
      "source": [
        "Tahap Data Splitting bertujuan untuk memisahkan dataset menjadi dua bagian: data latih (training set) dan data uji (test set)."
      ],
      "metadata": {
        "id": "YYj1rl_JNI9Y"
      }
    },
    {
      "cell_type": "code",
      "source": [
        "if 'Cluster' not in df.columns:\n",
        "    raise ValueError(\"Kolom 'Cluster' tidak ditemukan dalam dataset!\")\n",
        "X = df.drop(columns=['Cluster'])\n",
        "y = df['Cluster']\n",
        "X = pd.get_dummies(X, drop_first=True)\n",
        "scaler = StandardScaler()\n",
        "X = scaler.fit_transform(X)\n",
        "\n",
        "X_train, X_test, y_train, y_test = train_test_split(X, y, test_size=0.2, random_state=42, stratify=y)\n",
        "print(f\"Jumlah data training: {len(X_train)}\")\n",
        "print(f\"Jumlah data testing: {len(X_test)}\")"
      ],
      "metadata": {
        "id": "OubAW-7ONKVj",
        "colab": {
          "base_uri": "https://localhost:8080/"
        },
        "outputId": "b356a9a8-9500-44b9-8cb1-005772c02588"
      },
      "execution_count": null,
      "outputs": [
        {
          "output_type": "stream",
          "name": "stdout",
          "text": [
            "Jumlah data training: 31293\n",
            "Jumlah data testing: 7824\n"
          ]
        }
      ]
    },
    {
      "cell_type": "markdown",
      "source": [
        "# **4. Membangun Model Klasifikasi**\n"
      ],
      "metadata": {
        "id": "IVPbB03CMhTT"
      }
    },
    {
      "cell_type": "markdown",
      "source": [
        "## **a. Membangun Model Klasifikasi**"
      ],
      "metadata": {
        "id": "Ned1pL9zMmBK"
      }
    },
    {
      "cell_type": "markdown",
      "source": [
        "Setelah memilih algoritma klasifikasi yang sesuai, langkah selanjutnya adalah melatih model menggunakan data latih.\n",
        "\n",
        "Berikut adalah rekomendasi tahapannya.\n",
        "1. Pilih algoritma klasifikasi yang sesuai, seperti Logistic Regression, Decision Tree, Random Forest, atau K-Nearest Neighbors (KNN).\n",
        "2. Latih model menggunakan data latih."
      ],
      "metadata": {
        "id": "WAWzPOE4Nkti"
      }
    },
    {
      "cell_type": "code",
      "source": [
        "clf = RandomForestClassifier(n_estimators=200, max_depth=20, min_samples_split=5, min_samples_leaf=2, random_state=42)\n",
        "clf.fit(X_train, y_train)"
      ],
      "metadata": {
        "id": "4JYxBe87NLDk"
      },
      "execution_count": null,
      "outputs": []
    },
    {
      "cell_type": "markdown",
      "source": [
        "Tulis narasi atau penjelasan algoritma yang Anda gunakan.\n",
        "\n",
        "---\n",
        "\n",
        "Random Forest Classifier\n",
        "Algoritma utama yang digunakan untuk klasifikasi hasil clustering adalah Random Forest Classifier algoritma berbasis ensemble yang terdiri dari banyak decision tree untuk meningkatkan akurasi dan mengurangi overfitting. Random Forest Classifier terbukti menjadi algoritma yang kuat untuk tugas klasifikasi karena kemampuannya menangani data yang kompleks dan memberikan hasil yang stabil."
      ],
      "metadata": {
        "id": "seYoHNY3XU1y"
      }
    },
    {
      "cell_type": "markdown",
      "source": [
        "## **b. Evaluasi Model Klasifikasi**"
      ],
      "metadata": {
        "id": "ergzChZFEL-O"
      }
    },
    {
      "cell_type": "markdown",
      "source": [
        "Berikut adalah **rekomendasi** tahapannya.\n",
        "1. Lakukan prediksi menggunakan data uji.\n",
        "2. Hitung metrik evaluasi seperti Accuracy dan F1-Score (Opsional: Precision dan Recall).\n",
        "3. Buat confusion matrix untuk melihat detail prediksi benar dan salah."
      ],
      "metadata": {
        "id": "zOm68u-7NpLT"
      }
    },
    {
      "cell_type": "code",
      "source": [
        "y_pred = clf.predict(X_test)\n",
        "accuracy = accuracy_score(y_test, y_pred)\n",
        "f1 = f1_score(y_test, y_pred, average='weighted')\n",
        "\n",
        "print(f\"Accuracy: {accuracy:.4f}\")\n",
        "print(f\"F1-Score: {f1:.4f}\")\n",
        "print(\"Classification Report:\")\n",
        "print(classification_report(y_test, y_pred))\n",
        "\n",
        "cm = confusion_matrix(y_test, y_pred)\n",
        "\n",
        "plt.figure(figsize=(6,5))\n",
        "sns.heatmap(cm, annot=True, fmt='d', cmap='Blues')\n",
        "plt.xlabel(\"Predicted Label\")\n",
        "plt.ylabel(\"True Label\")\n",
        "plt.title(\"Confusion Matrix\")\n",
        "plt.show()"
      ],
      "metadata": {
        "id": "tMq4QAssNLip",
        "colab": {
          "base_uri": "https://localhost:8080/",
          "height": 747
        },
        "outputId": "8f83dc1b-ba21-4109-d65f-fb7a8c6700a1"
      },
      "execution_count": null,
      "outputs": [
        {
          "output_type": "stream",
          "name": "stdout",
          "text": [
            "Accuracy: 0.9957\n",
            "F1-Score: 0.9956\n",
            "Classification Report:\n",
            "              precision    recall  f1-score   support\n",
            "\n",
            "           0       1.00      0.99      1.00      2501\n",
            "           1       1.00      1.00      1.00      1633\n",
            "           2       0.99      0.97      0.98       433\n",
            "           3       1.00      1.00      1.00       790\n",
            "           4       0.99      1.00      1.00      2467\n",
            "\n",
            "    accuracy                           1.00      7824\n",
            "   macro avg       1.00      0.99      0.99      7824\n",
            "weighted avg       1.00      1.00      1.00      7824\n",
            "\n"
          ]
        },
        {
          "output_type": "display_data",
          "data": {
            "text/plain": [
              "<Figure size 600x500 with 2 Axes>"
            ],
            "image/png": "[encoded data removed]"
          },
          "metadata": {}
        }
      ]
    },
    {
      "cell_type": "markdown",
      "source": [
        "Tulis hasil evaluasi algoritma yang digunakan, jika Anda menggunakan 2 algoritma, maka bandingkan hasilnya.\n",
        "\n",
        "---\n",
        "\n",
        "Evaluasi Model Random Forest\n",
        "Sebelum tuning:\n",
        "\n",
        "Akurasi: 99.62%\n",
        "\n",
        "F1-Score: 99.62%\n",
        "\n",
        "Setelah tuning dengan GridSearchCV:\n",
        "\n",
        "Akurasi: 99.63%\n",
        "\n",
        "F1-Score: 99.63%\n",
        "\n",
        "---\n",
        "\n",
        "Hasil evaluasi menunjukkan bahwa Random Forest memberikan performa yang sangat baik, bahkan sebelum dilakukan tuning. Tuning hanya meningkatkan sedikit performa karena model awal sudah sangat optimal."
      ],
      "metadata": {
        "id": "H4_9OwrsXZlz"
      }
    },
    {
      "cell_type": "markdown",
      "source": [
        "## **c. Tuning Model Klasifikasi (Optional)**"
      ],
      "metadata": {
        "id": "ph9yIYDXEPuB"
      }
    },
    {
      "cell_type": "markdown",
      "source": [
        "Gunakan GridSearchCV, RandomizedSearchCV, atau metode lainnya untuk mencari kombinasi hyperparameter terbaik"
      ],
      "metadata": {
        "id": "-Bikx3LINv5e"
      }
    },
    {
      "cell_type": "code",
      "source": [
        "param_grid = {\n",
        "    'n_estimators': [100, 200, 300],\n",
        "    'max_depth': [10, 20, 30],\n",
        "    'min_samples_split': [2, 5, 10],\n",
        "    'min_samples_leaf': [1, 2, 4]\n",
        "}\n",
        "grid_search = GridSearchCV(RandomForestClassifier(random_state=42), param_grid, cv=5, scoring='f1_weighted', n_jobs=-1)\n",
        "grid_search.fit(X_train, y_train)\n",
        "\n",
        "print(\"Best Parameters:\", grid_search.best_params_)\n",
        "\n",
        "best_clf = grid_search.best_estimator_\n",
        "y_pred_best = best_clf.predict(X_test)"
      ],
      "metadata": {
        "id": "winbFzb8NL95",
        "colab": {
          "base_uri": "https://localhost:8080/"
        },
        "outputId": "fbc20f62-1b13-4c2a-f7c4-e7c49334490c"
      },
      "execution_count": null,
      "outputs": [
        {
          "output_type": "stream",
          "name": "stdout",
          "text": [
            "Best Parameters: {'max_depth': 30, 'min_samples_leaf': 1, 'min_samples_split': 2, 'n_estimators': 300}\n"
          ]
        }
      ]
    },
    {
      "cell_type": "markdown",
      "source": [
        "## **d. Evaluasi Model Klasifikasi setelah Tuning (Optional)**"
      ],
      "metadata": {
        "id": "hE7pqlEPEYzI"
      }
    },
    {
      "cell_type": "markdown",
      "source": [
        "Berikut adalah rekomendasi tahapannya.\n",
        "1. Gunakan model dengan hyperparameter terbaik.\n",
        "2. Hitung ulang metrik evaluasi untuk melihat apakah ada peningkatan performa."
      ],
      "metadata": {
        "id": "feaPESoeN0zz"
      }
    },
    {
      "cell_type": "code",
      "source": [
        "accuracy_best = accuracy_score(y_test, y_pred_best)\n",
        "f1_best = f1_score(y_test, y_pred_best, average='weighted')\n",
        "\n",
        "print(f\"Accuracy after tuning: {accuracy_best:.4f}\")\n",
        "print(f\"F1-Score after tuning: {f1_best:.4f}\")\n",
        "print(\"Classification Report After Tuning:\")\n",
        "print(classification_report(y_test, y_pred_best))\n",
        "\n",
        "cm_best = confusion_matrix(y_test, y_pred_best)\n",
        "\n",
        "plt.figure(figsize=(6,5))\n",
        "sns.heatmap(cm_best, annot=True, fmt='d', cmap='Greens')\n",
        "plt.xlabel(\"Predicted Label\")\n",
        "plt.ylabel(\"True Label\")\n",
        "plt.title(\"Confusion Matrix After Tuning\")\n",
        "plt.show()"
      ],
      "metadata": {
        "id": "HTXZRvEeNMb1",
        "colab": {
          "base_uri": "https://localhost:8080/",
          "height": 747
        },
        "outputId": "66734a00-0d47-45f7-b9fa-df050a1e75be"
      },
      "execution_count": null,
      "outputs": [
        {
          "output_type": "stream",
          "name": "stdout",
          "text": [
            "Accuracy after tuning: 0.9965\n",
            "F1-Score after tuning: 0.9965\n",
            "Classification Report After Tuning:\n",
            "              precision    recall  f1-score   support\n",
            "\n",
            "           0       1.00      1.00      1.00      2501\n",
            "           1       1.00      1.00      1.00      1633\n",
            "           2       0.99      0.97      0.98       433\n",
            "           3       1.00      1.00      1.00       790\n",
            "           4       1.00      1.00      1.00      2467\n",
            "\n",
            "    accuracy                           1.00      7824\n",
            "   macro avg       1.00      0.99      0.99      7824\n",
            "weighted avg       1.00      1.00      1.00      7824\n",
            "\n"
          ]
        },
        {
          "output_type": "display_data",
          "data": {
            "text/plain": [
              "<Figure size 600x500 with 2 Axes>"
            ],
            "image/png": "[encoded data removed]"
          },
          "metadata": {}
        }
      ]
    },
    {
      "cell_type": "markdown",
      "source": [
        "## **e. Analisis Hasil Evaluasi Model Klasifikasi**"
      ],
      "metadata": {
        "id": "ZRsOdm4uEgAW"
      }
    },
    {
      "cell_type": "markdown",
      "source": [
        "Berikut adalah **rekomendasi** tahapannya.\n",
        "1. Bandingkan hasil evaluasi sebelum dan setelah tuning (jika dilakukan).\n",
        "\n",
        "        |     Model      | Akurasi | F1-Score |\n",
        "        |----------------|---------|----------|\n",
        "        | Sebelum Tuning | 85%     | 0.83     |\n",
        "        | Setelah Tuning | 88%     | 0.86     |\n",
        "\n",
        "---\n",
        "\n",
        "2. Identifikasi kelemahan model, seperti:\n",
        "  - Precision atau Recall rendah untuk kelas tertentu.\n",
        "    \n",
        "    Cek Classification Report untuk melihat kelas mana yang sering salah diprediksi.\n",
        "  - Apakah model mengalami overfitting atau underfitting?\n",
        "\n",
        "    Jika akurasi tinggi di training tapi rendah di testing berarti Overfitting (Perlu regularisasi atau lebih banyak data).  \n",
        "Jika akurasi rendah di training & testing Berarti Underfitting (Perlu model yang lebih kompleks).\n",
        "\n",
        "---\n",
        "  \n",
        "3. Berikan rekomendasi tindakan lanjutan, seperti mengumpulkan data tambahan atau mencoba algoritma lain jika hasil belum memuaskan.\n",
        "\n",
        "  Jika performa masih kurang:  \n",
        "  - Coba algoritma lain seperti XGBoost, SVM, atau Neural Networks.  \n",
        "  - Feature Engineering (menambah fitur baru atau menghapus fitur yang tidak relevan).  \n",
        "  - Gunakan lebih banyak data jika tersedia.  "
      ],
      "metadata": {
        "id": "Hm3BhSi6N4_l"
      }
    }
  ]
}